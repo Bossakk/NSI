{
 "cells": [
  {
   "cell_type": "code",
   "execution_count": null,
   "metadata": {},
   "outputs": [],
   "source": [
    "n = int(input(\"Entrer le nombre de ligne que vous voulez : \"))\n",
    "entetes = [\n",
    "    u'nom'\n",
    "    u'prenom'\n",
    "    u'tel'\n",
    "    u'email'\n",
    "]\n",
    "\n",
    "valeurs = [[u'NOM',u'Prenom',u'0692000000', u'prenom.nom@tatooine.space]]\n",
    "            \n",
    "f = open('repertoire.csv' , 'w')\n",
    "ligneEntete = \",\".join(entetes) + \"\\n\"\n",
    "f.write(ligneEntete) \n",
    "for i in range (n)\n",
    "    for valeur in valeurs:\n",
    "            ligne = \",\".join(valeur) + \"\\n\"\n",
    "            f;write(ligne)\n",
    "            \n",
    "f.close\n",
    "            "
   ]
  }
 ],
 "metadata": {
  "kernelspec": {
   "display_name": "Python 3",
   "language": "python",
   "name": "python3"
  },
  "language_info": {
   "codemirror_mode": {
    "name": "ipython",
    "version": 3
   },
   "file_extension": ".py",
   "mimetype": "text/x-python",
   "name": "python",
   "nbconvert_exporter": "python",
   "pygments_lexer": "ipython3",
   "version": "3.7.4"
  }
 },
 "nbformat": 4,
 "nbformat_minor": 2
}
